{
 "cells": [
  {
   "cell_type": "code",
   "execution_count": 1,
   "metadata": {},
   "outputs": [],
   "source": [
    "#Import necessary libraries \n",
    "import pandas as pd\n",
    "from sklearn.impute import KNNImputer\n",
    "import numpy as np"
   ]
  },
  {
   "cell_type": "code",
   "execution_count": 2,
   "metadata": {},
   "outputs": [],
   "source": [
    "#load dataset into Pandas Dataframe \n",
    "df = pd.read_csv('baseline_all_clean.csv')"
   ]
  },
  {
   "cell_type": "code",
   "execution_count": 3,
   "metadata": {},
   "outputs": [
    {
     "name": "stdout",
     "output_type": "stream",
     "text": [
      "     Unnamed: 0     id  cohort.x  eosinophil_sputum_percentage  \\\n",
      "0             1  A_000  cohort_a                     -0.787458   \n",
      "1             2  A_001  cohort_d                           NaN   \n",
      "2             3  A_002  cohort_d                     -2.590267   \n",
      "3             4  A_003  cohort_a                      4.283793   \n",
      "4             5  A_004  cohort_b                      0.227136   \n",
      "..          ...    ...       ...                           ...   \n",
      "514         592  A_720  cohort_a                      0.044017   \n",
      "515         593  A_722  cohort_a                     -2.590267   \n",
      "516         594  A_723  cohort_c                     -2.590267   \n",
      "517         595  A_724  cohort_b                      1.436274   \n",
      "518         596  A_727  cohort_a                           NaN   \n",
      "\n",
      "     neutrophil_sputum_percentage  eosinophil_serum_count  \\\n",
      "0                           58.27               -0.855666   \n",
      "1                             NaN               -2.353878   \n",
      "2                           16.96               -1.187444   \n",
      "3                           17.32               -2.079442   \n",
      "4                            4.72               -0.438505   \n",
      "..                            ...                     ...   \n",
      "514                         45.45               -2.733368   \n",
      "515                         83.99               -2.253795   \n",
      "516                         73.76               -2.590267   \n",
      "517                         79.57               -2.353878   \n",
      "518                           NaN               -0.903868   \n",
      "\n",
      "     neutrophil_serum_count  fev1_percentage  fev1_actual  fev1_predicted  \\\n",
      "0                  1.641905            86.92         3.19            3.67   \n",
      "1                  1.164712           107.47         3.31            3.08   \n",
      "2                  1.080109           110.23         2.91            2.64   \n",
      "3                  2.198890            62.66         2.87            4.58   \n",
      "4                  1.707472            61.50         1.15            1.87   \n",
      "..                      ...              ...          ...             ...   \n",
      "514                2.211018            59.91         1.36            2.27   \n",
      "515                1.491780            56.77         1.97            3.47   \n",
      "516                1.864855            74.90         1.91            2.55   \n",
      "517                2.534094            50.56         1.36            2.69   \n",
      "518                2.224083            59.55         1.84            3.09   \n",
      "\n",
      "     ...     IP.10      IL.4      IL.5  vol.ul.  \\\n",
      "0    ...  4.395498 -1.123930  0.173953   218.29   \n",
      "1    ...  4.893839 -2.733368 -4.605170   249.94   \n",
      "2    ...  4.643958 -1.007858 -4.605170   235.07   \n",
      "3    ...  4.296264 -0.928870 -4.605170   233.23   \n",
      "4    ...  5.888836 -0.980829 -4.605170   228.77   \n",
      "..   ...       ...       ...       ...      ...   \n",
      "514  ...  5.551660 -0.723606  1.313724   272.42   \n",
      "515  ...  4.875312 -1.406497 -4.605170   230.55   \n",
      "516  ...  4.583998 -0.683197 -4.605170   233.38   \n",
      "517  ...  4.374813 -1.537117  2.425687   234.06   \n",
      "518  ...  5.296340 -0.486133 -4.605170   237.92   \n",
      "\n",
      "                                         comnnent  cohort.y  Education  \\\n",
      "0                                             NaN  cohort_a        3.0   \n",
      "1                                             NaN  cohort_d        2.0   \n",
      "2                                             NaN  cohort_d        2.0   \n",
      "3                                             NaN  cohort_a        3.0   \n",
      "4                                             NaN  cohort_b        2.0   \n",
      "..                                            ...       ...        ...   \n",
      "514                                           NaN  cohort_a        2.0   \n",
      "515                                           NaN  cohort_a        2.0   \n",
      "516  PAPP-A was not mesured due to sample volume   cohort_c        2.0   \n",
      "517                                           NaN  cohort_b        2.0   \n",
      "518                                           NaN  cohort_a        3.0   \n",
      "\n",
      "     Occupation  Ethnic_father  Ethnic_mother  \n",
      "0           1.0              1              1  \n",
      "1           1.0              1              1  \n",
      "2           1.0              1              1  \n",
      "3           1.0              1              1  \n",
      "4           3.0              1              1  \n",
      "..          ...            ...            ...  \n",
      "514         1.0              1              1  \n",
      "515         1.0              1              1  \n",
      "516         1.0              1              1  \n",
      "517         4.0              1              1  \n",
      "518         4.0              1              1  \n",
      "\n",
      "[519 rows x 66 columns]\n"
     ]
    }
   ],
   "source": [
    "print(df)"
   ]
  },
  {
   "cell_type": "code",
   "execution_count": 4,
   "metadata": {},
   "outputs": [
    {
     "name": "stdout",
     "output_type": "stream",
     "text": [
      "Index(['Unnamed: 0', 'id', 'cohort.x', 'eosinophil_sputum_percentage',\n",
      "       'neutrophil_sputum_percentage', 'eosinophil_serum_count',\n",
      "       'neutrophil_serum_count', 'fev1_percentage', 'fev1_actual',\n",
      "       'fev1_predicted', 'fvc_percentage', 'fvc_actual', 'fvc_predicted',\n",
      "       'exacerbation_per_year', 'severe_exacerbation_per_year', 'acq5', 'ocs',\n",
      "       'age_of_onset', 'atopy', 'icu', 'icu_last_year', 'icu_times',\n",
      "       'nasal_polyps', 'nasal_polyps_active', 'Sex', 'Age',\n",
      "       'Estimated Age at Longitudinal Visit', 'Race',\n",
      "       'Body Mass Index (kg/m2)', 'Smoking Status', 'Pack Years',\n",
      "       'Second Hand Smoke', 'KIT.ID', 'Comment', 'PLATE.ID', 'P.total',\n",
      "       'CCL18', 'IL18', 'CCL5', 'i.TAC', 'TARC', 'IL.10', 'IL.16', 'MIP.1a',\n",
      "       'PAPP.A', 'IL17', 'TSLP', 'SP.A', 'CTACK', 'KL.6', 'MPO', 'EDN', 'IL.6',\n",
      "       'TNF.A', 'MIG', 'CCL20', 'IP.10', 'IL.4', 'IL.5', 'vol.ul.', 'comnnent',\n",
      "       'cohort.y', 'Education', 'Occupation', 'Ethnic_father',\n",
      "       'Ethnic_mother'],\n",
      "      dtype='object')\n"
     ]
    }
   ],
   "source": [
    "# get all column names\n",
    "col_names = df.columns \n",
    "\n",
    "print(col_names)"
   ]
  },
  {
   "cell_type": "code",
   "execution_count": 6,
   "metadata": {},
   "outputs": [
    {
     "name": "stdout",
     "output_type": "stream",
     "text": [
      "There are missing values in the dataframe.\n"
     ]
    }
   ],
   "source": [
    "# Check for missing values in all columns\n",
    "if df.isna().any().any():\n",
    "    print(\"There are missing values in the dataframe.\")\n",
    "else:\n",
    "    print(\"There are no missing values in the dataframe.\")"
   ]
  },
  {
   "cell_type": "code",
   "execution_count": 8,
   "metadata": {},
   "outputs": [
    {
     "name": "stdout",
     "output_type": "stream",
     "text": [
      "The following columns do not have any missing values:\n",
      "['Unnamed: 0', 'id', 'cohort.x', 'fev1_predicted', 'fvc_predicted', 'atopy', 'nasal_polyps', 'Sex', 'Age', 'Race', 'Body Mass Index (kg/m2)', 'Smoking Status', 'Second Hand Smoke', 'KIT.ID', 'Comment', 'PLATE.ID', 'vol.ul.', 'cohort.y', 'Ethnic_father', 'Ethnic_mother']\n"
     ]
    }
   ],
   "source": [
    "# Create boolean dataframe indicating which cells contain missing values\n",
    "missing_values = df.isna()\n",
    "\n",
    "# Check which columns have at least one missing value\n",
    "cols_with_missing_values = missing_values.any()\n",
    "\n",
    "# Get the names of the columns without missing values\n",
    "cols_without_missing_values = cols_with_missing_values[cols_with_missing_values == False].index.tolist()\n",
    "\n",
    "# Print the names of the columns without missing values\n",
    "print(\"The following columns do not have any missing values:\")\n",
    "print(cols_without_missing_values)"
   ]
  },
  {
   "cell_type": "code",
   "execution_count": 9,
   "metadata": {},
   "outputs": [
    {
     "name": "stdout",
     "output_type": "stream",
     "text": [
      "The following columns have missing values:\n",
      "['eosinophil_sputum_percentage', 'neutrophil_sputum_percentage', 'eosinophil_serum_count', 'neutrophil_serum_count', 'fev1_percentage', 'fev1_actual', 'fvc_percentage', 'fvc_actual', 'exacerbation_per_year', 'severe_exacerbation_per_year', 'acq5', 'ocs', 'age_of_onset', 'icu', 'icu_last_year', 'icu_times', 'nasal_polyps_active', 'Estimated Age at Longitudinal Visit', 'Pack Years', 'P.total', 'CCL18', 'IL18', 'CCL5', 'i.TAC', 'TARC', 'IL.10', 'IL.16', 'MIP.1a', 'PAPP.A', 'IL17', 'TSLP', 'SP.A', 'CTACK', 'KL.6', 'MPO', 'EDN', 'IL.6', 'TNF.A', 'MIG', 'CCL20', 'IP.10', 'IL.4', 'IL.5', 'comnnent', 'Education', 'Occupation']\n"
     ]
    }
   ],
   "source": [
    "# Create boolean dataframe indicating which cells contain missing values\n",
    "missing_values = df.isna()\n",
    "\n",
    "# Check which columns have at least one missing value\n",
    "cols_with_missing_values = missing_values.any()\n",
    "\n",
    "# Get the names of the columns with missing values\n",
    "cols_with_missing_values = cols_with_missing_values[cols_with_missing_values == True].index.tolist()\n",
    "\n",
    "# Print the names of the columns with missing values\n",
    "print(\"The following columns have missing values:\")\n",
    "print(cols_with_missing_values)"
   ]
  },
  {
   "cell_type": "code",
   "execution_count": 10,
   "metadata": {},
   "outputs": [],
   "source": [
    "subset_df=df[['eosinophil_sputum_percentage', 'neutrophil_sputum_percentage', \n",
    "              'eosinophil_serum_count', 'neutrophil_serum_count', 'fev1_percentage', \n",
    "              'fev1_actual', 'fvc_percentage', 'fvc_actual', 'exacerbation_per_year', \n",
    "              'severe_exacerbation_per_year', 'acq5', 'ocs', 'age_of_onset', 'icu', \n",
    "              'icu_last_year', 'icu_times', 'nasal_polyps_active', \n",
    "              'Estimated Age at Longitudinal Visit', 'Pack Years', 'P.total', \n",
    "              'CCL18', 'IL18', 'CCL5', 'i.TAC', 'TARC', 'IL.10', 'IL.16', 'MIP.1a', \n",
    "              'PAPP.A', 'IL17', 'TSLP', 'SP.A', 'CTACK', 'KL.6', 'MPO', 'EDN', 'IL.6', \n",
    "              'TNF.A', 'MIG', 'CCL20', 'IP.10', 'IL.4', 'IL.5', 'comnnent', 'Education', \n",
    "              'Occupation']]"
   ]
  },
  {
   "cell_type": "code",
   "execution_count": 12,
   "metadata": {},
   "outputs": [
    {
     "name": "stdout",
     "output_type": "stream",
     "text": [
      "The column 'id' has non-numeric values.\n",
      "The column 'cohort.x' has non-numeric values.\n",
      "The column 'icu_times' has non-numeric values.\n",
      "The column 'nasal_polyps' has non-numeric values.\n",
      "The column 'nasal_polyps_active' has non-numeric values.\n",
      "The column 'Sex' has non-numeric values.\n",
      "The column 'Smoking Status' has non-numeric values.\n",
      "The column 'Second Hand Smoke' has non-numeric values.\n",
      "The column 'Comment' has non-numeric values.\n",
      "The column 'PLATE.ID' has non-numeric values.\n",
      "The column 'comnnent' has non-numeric values.\n",
      "The column 'cohort.y' has non-numeric values.\n"
     ]
    }
   ],
   "source": [
    "# Check for non-numeric values in all columns\n",
    "for col in df.columns:\n",
    "    try:\n",
    "        pd.to_numeric(df[col], errors='raise')\n",
    "    except ValueError:\n",
    "        print(f\"The column '{col}' has non-numeric values.\")"
   ]
  },
  {
   "cell_type": "code",
   "execution_count": 13,
   "metadata": {},
   "outputs": [
    {
     "name": "stdout",
     "output_type": "stream",
     "text": [
      "     Unnamed: 0     id  cohort.x  eosinophil_sputum_percentage  \\\n",
      "0             1  A_000  cohort_a                     -0.787458   \n",
      "1             2  A_001  cohort_d                           NaN   \n",
      "2             3  A_002  cohort_d                     -2.590267   \n",
      "3             4  A_003  cohort_a                      4.283793   \n",
      "4             5  A_004  cohort_b                      0.227136   \n",
      "..          ...    ...       ...                           ...   \n",
      "514         592  A_720  cohort_a                      0.044017   \n",
      "515         593  A_722  cohort_a                     -2.590267   \n",
      "516         594  A_723  cohort_c                     -2.590267   \n",
      "517         595  A_724  cohort_b                      1.436274   \n",
      "518         596  A_727  cohort_a                           NaN   \n",
      "\n",
      "     neutrophil_sputum_percentage  eosinophil_serum_count  \\\n",
      "0                           58.27               -0.855666   \n",
      "1                             NaN               -2.353878   \n",
      "2                           16.96               -1.187444   \n",
      "3                           17.32               -2.079442   \n",
      "4                            4.72               -0.438505   \n",
      "..                            ...                     ...   \n",
      "514                         45.45               -2.733368   \n",
      "515                         83.99               -2.253795   \n",
      "516                         73.76               -2.590267   \n",
      "517                         79.57               -2.353878   \n",
      "518                           NaN               -0.903868   \n",
      "\n",
      "     neutrophil_serum_count  fev1_percentage  fev1_actual  fev1_predicted  \\\n",
      "0                  1.641905            86.92         3.19            3.67   \n",
      "1                  1.164712           107.47         3.31            3.08   \n",
      "2                  1.080109           110.23         2.91            2.64   \n",
      "3                  2.198890            62.66         2.87            4.58   \n",
      "4                  1.707472            61.50         1.15            1.87   \n",
      "..                      ...              ...          ...             ...   \n",
      "514                2.211018            59.91         1.36            2.27   \n",
      "515                1.491780            56.77         1.97            3.47   \n",
      "516                1.864855            74.90         1.91            2.55   \n",
      "517                2.534094            50.56         1.36            2.69   \n",
      "518                2.224083            59.55         1.84            3.09   \n",
      "\n",
      "     ...     IP.10      IL.4      IL.5  vol.ul.  \\\n",
      "0    ...  4.395498 -1.123930  0.173953   218.29   \n",
      "1    ...  4.893839 -2.733368 -4.605170   249.94   \n",
      "2    ...  4.643958 -1.007858 -4.605170   235.07   \n",
      "3    ...  4.296264 -0.928870 -4.605170   233.23   \n",
      "4    ...  5.888836 -0.980829 -4.605170   228.77   \n",
      "..   ...       ...       ...       ...      ...   \n",
      "514  ...  5.551660 -0.723606  1.313724   272.42   \n",
      "515  ...  4.875312 -1.406497 -4.605170   230.55   \n",
      "516  ...  4.583998 -0.683197 -4.605170   233.38   \n",
      "517  ...  4.374813 -1.537117  2.425687   234.06   \n",
      "518  ...  5.296340 -0.486133 -4.605170   237.92   \n",
      "\n",
      "                                         comnnent  cohort.y  Education  \\\n",
      "0                                             NaN  cohort_a        3.0   \n",
      "1                                             NaN  cohort_d        2.0   \n",
      "2                                             NaN  cohort_d        2.0   \n",
      "3                                             NaN  cohort_a        3.0   \n",
      "4                                             NaN  cohort_b        2.0   \n",
      "..                                            ...       ...        ...   \n",
      "514                                           NaN  cohort_a        2.0   \n",
      "515                                           NaN  cohort_a        2.0   \n",
      "516  PAPP-A was not mesured due to sample volume   cohort_c        2.0   \n",
      "517                                           NaN  cohort_b        2.0   \n",
      "518                                           NaN  cohort_a        3.0   \n",
      "\n",
      "     Occupation  Ethnic_father  Ethnic_mother  \n",
      "0           1.0              1              1  \n",
      "1           1.0              1              1  \n",
      "2           1.0              1              1  \n",
      "3           1.0              1              1  \n",
      "4           3.0              1              1  \n",
      "..          ...            ...            ...  \n",
      "514         1.0              1              1  \n",
      "515         1.0              1              1  \n",
      "516         1.0              1              1  \n",
      "517         4.0              1              1  \n",
      "518         4.0              1              1  \n",
      "\n",
      "[519 rows x 66 columns]\n"
     ]
    }
   ],
   "source": [
    "print(df)"
   ]
  },
  {
   "cell_type": "code",
   "execution_count": 11,
   "metadata": {},
   "outputs": [
    {
     "ename": "ValueError",
     "evalue": "could not convert string to float: '2to5'",
     "output_type": "error",
     "traceback": [
      "\u001b[0;31m---------------------------------------------------------------------------\u001b[0m",
      "\u001b[0;31mValueError\u001b[0m                                Traceback (most recent call last)",
      "Cell \u001b[0;32mIn[11], line 5\u001b[0m\n\u001b[1;32m      2\u001b[0m imputer \u001b[38;5;241m=\u001b[39m KNNImputer(n_neighbors\u001b[38;5;241m=\u001b[39m\u001b[38;5;241m5\u001b[39m)\n\u001b[1;32m      4\u001b[0m \u001b[38;5;66;03m# Impute missing values\u001b[39;00m\n\u001b[0;32m----> 5\u001b[0m imputed_data \u001b[38;5;241m=\u001b[39m \u001b[43mimputer\u001b[49m\u001b[38;5;241;43m.\u001b[39;49m\u001b[43mfit_transform\u001b[49m\u001b[43m(\u001b[49m\u001b[43msubset_df\u001b[49m\u001b[43m)\u001b[49m\n",
      "File \u001b[0;32m~/anaconda3/envs/test1/lib/python3.9/site-packages/sklearn/utils/_set_output.py:142\u001b[0m, in \u001b[0;36m_wrap_method_output.<locals>.wrapped\u001b[0;34m(self, X, *args, **kwargs)\u001b[0m\n\u001b[1;32m    140\u001b[0m \u001b[38;5;129m@wraps\u001b[39m(f)\n\u001b[1;32m    141\u001b[0m \u001b[38;5;28;01mdef\u001b[39;00m \u001b[38;5;21mwrapped\u001b[39m(\u001b[38;5;28mself\u001b[39m, X, \u001b[38;5;241m*\u001b[39margs, \u001b[38;5;241m*\u001b[39m\u001b[38;5;241m*\u001b[39mkwargs):\n\u001b[0;32m--> 142\u001b[0m     data_to_wrap \u001b[38;5;241m=\u001b[39m \u001b[43mf\u001b[49m\u001b[43m(\u001b[49m\u001b[38;5;28;43mself\u001b[39;49m\u001b[43m,\u001b[49m\u001b[43m \u001b[49m\u001b[43mX\u001b[49m\u001b[43m,\u001b[49m\u001b[43m \u001b[49m\u001b[38;5;241;43m*\u001b[39;49m\u001b[43margs\u001b[49m\u001b[43m,\u001b[49m\u001b[43m \u001b[49m\u001b[38;5;241;43m*\u001b[39;49m\u001b[38;5;241;43m*\u001b[39;49m\u001b[43mkwargs\u001b[49m\u001b[43m)\u001b[49m\n\u001b[1;32m    143\u001b[0m     \u001b[38;5;28;01mif\u001b[39;00m \u001b[38;5;28misinstance\u001b[39m(data_to_wrap, \u001b[38;5;28mtuple\u001b[39m):\n\u001b[1;32m    144\u001b[0m         \u001b[38;5;66;03m# only wrap the first output for cross decomposition\u001b[39;00m\n\u001b[1;32m    145\u001b[0m         \u001b[38;5;28;01mreturn\u001b[39;00m (\n\u001b[1;32m    146\u001b[0m             _wrap_data_with_container(method, data_to_wrap[\u001b[38;5;241m0\u001b[39m], X, \u001b[38;5;28mself\u001b[39m),\n\u001b[1;32m    147\u001b[0m             \u001b[38;5;241m*\u001b[39mdata_to_wrap[\u001b[38;5;241m1\u001b[39m:],\n\u001b[1;32m    148\u001b[0m         )\n",
      "File \u001b[0;32m~/anaconda3/envs/test1/lib/python3.9/site-packages/sklearn/base.py:859\u001b[0m, in \u001b[0;36mTransformerMixin.fit_transform\u001b[0;34m(self, X, y, **fit_params)\u001b[0m\n\u001b[1;32m    855\u001b[0m \u001b[38;5;66;03m# non-optimized default implementation; override when a better\u001b[39;00m\n\u001b[1;32m    856\u001b[0m \u001b[38;5;66;03m# method is possible for a given clustering algorithm\u001b[39;00m\n\u001b[1;32m    857\u001b[0m \u001b[38;5;28;01mif\u001b[39;00m y \u001b[38;5;129;01mis\u001b[39;00m \u001b[38;5;28;01mNone\u001b[39;00m:\n\u001b[1;32m    858\u001b[0m     \u001b[38;5;66;03m# fit method of arity 1 (unsupervised transformation)\u001b[39;00m\n\u001b[0;32m--> 859\u001b[0m     \u001b[38;5;28;01mreturn\u001b[39;00m \u001b[38;5;28;43mself\u001b[39;49m\u001b[38;5;241;43m.\u001b[39;49m\u001b[43mfit\u001b[49m\u001b[43m(\u001b[49m\u001b[43mX\u001b[49m\u001b[43m,\u001b[49m\u001b[43m \u001b[49m\u001b[38;5;241;43m*\u001b[39;49m\u001b[38;5;241;43m*\u001b[39;49m\u001b[43mfit_params\u001b[49m\u001b[43m)\u001b[49m\u001b[38;5;241m.\u001b[39mtransform(X)\n\u001b[1;32m    860\u001b[0m \u001b[38;5;28;01melse\u001b[39;00m:\n\u001b[1;32m    861\u001b[0m     \u001b[38;5;66;03m# fit method of arity 2 (supervised transformation)\u001b[39;00m\n\u001b[1;32m    862\u001b[0m     \u001b[38;5;28;01mreturn\u001b[39;00m \u001b[38;5;28mself\u001b[39m\u001b[38;5;241m.\u001b[39mfit(X, y, \u001b[38;5;241m*\u001b[39m\u001b[38;5;241m*\u001b[39mfit_params)\u001b[38;5;241m.\u001b[39mtransform(X)\n",
      "File \u001b[0;32m~/anaconda3/envs/test1/lib/python3.9/site-packages/sklearn/impute/_knn.py:226\u001b[0m, in \u001b[0;36mKNNImputer.fit\u001b[0;34m(self, X, y)\u001b[0m\n\u001b[1;32m    223\u001b[0m \u001b[38;5;28;01melse\u001b[39;00m:\n\u001b[1;32m    224\u001b[0m     force_all_finite \u001b[38;5;241m=\u001b[39m \u001b[38;5;124m\"\u001b[39m\u001b[38;5;124mallow-nan\u001b[39m\u001b[38;5;124m\"\u001b[39m\n\u001b[0;32m--> 226\u001b[0m X \u001b[38;5;241m=\u001b[39m \u001b[38;5;28;43mself\u001b[39;49m\u001b[38;5;241;43m.\u001b[39;49m\u001b[43m_validate_data\u001b[49m\u001b[43m(\u001b[49m\n\u001b[1;32m    227\u001b[0m \u001b[43m    \u001b[49m\u001b[43mX\u001b[49m\u001b[43m,\u001b[49m\n\u001b[1;32m    228\u001b[0m \u001b[43m    \u001b[49m\u001b[43maccept_sparse\u001b[49m\u001b[38;5;241;43m=\u001b[39;49m\u001b[38;5;28;43;01mFalse\u001b[39;49;00m\u001b[43m,\u001b[49m\n\u001b[1;32m    229\u001b[0m \u001b[43m    \u001b[49m\u001b[43mdtype\u001b[49m\u001b[38;5;241;43m=\u001b[39;49m\u001b[43mFLOAT_DTYPES\u001b[49m\u001b[43m,\u001b[49m\n\u001b[1;32m    230\u001b[0m \u001b[43m    \u001b[49m\u001b[43mforce_all_finite\u001b[49m\u001b[38;5;241;43m=\u001b[39;49m\u001b[43mforce_all_finite\u001b[49m\u001b[43m,\u001b[49m\n\u001b[1;32m    231\u001b[0m \u001b[43m    \u001b[49m\u001b[43mcopy\u001b[49m\u001b[38;5;241;43m=\u001b[39;49m\u001b[38;5;28;43mself\u001b[39;49m\u001b[38;5;241;43m.\u001b[39;49m\u001b[43mcopy\u001b[49m\u001b[43m,\u001b[49m\n\u001b[1;32m    232\u001b[0m \u001b[43m\u001b[49m\u001b[43m)\u001b[49m\n\u001b[1;32m    234\u001b[0m \u001b[38;5;28mself\u001b[39m\u001b[38;5;241m.\u001b[39m_fit_X \u001b[38;5;241m=\u001b[39m X\n\u001b[1;32m    235\u001b[0m \u001b[38;5;28mself\u001b[39m\u001b[38;5;241m.\u001b[39m_mask_fit_X \u001b[38;5;241m=\u001b[39m _get_mask(\u001b[38;5;28mself\u001b[39m\u001b[38;5;241m.\u001b[39m_fit_X, \u001b[38;5;28mself\u001b[39m\u001b[38;5;241m.\u001b[39mmissing_values)\n",
      "File \u001b[0;32m~/anaconda3/envs/test1/lib/python3.9/site-packages/sklearn/base.py:546\u001b[0m, in \u001b[0;36mBaseEstimator._validate_data\u001b[0;34m(self, X, y, reset, validate_separately, **check_params)\u001b[0m\n\u001b[1;32m    544\u001b[0m     \u001b[38;5;28;01mraise\u001b[39;00m \u001b[38;5;167;01mValueError\u001b[39;00m(\u001b[38;5;124m\"\u001b[39m\u001b[38;5;124mValidation should be done on X, y or both.\u001b[39m\u001b[38;5;124m\"\u001b[39m)\n\u001b[1;32m    545\u001b[0m \u001b[38;5;28;01melif\u001b[39;00m \u001b[38;5;129;01mnot\u001b[39;00m no_val_X \u001b[38;5;129;01mand\u001b[39;00m no_val_y:\n\u001b[0;32m--> 546\u001b[0m     X \u001b[38;5;241m=\u001b[39m \u001b[43mcheck_array\u001b[49m\u001b[43m(\u001b[49m\u001b[43mX\u001b[49m\u001b[43m,\u001b[49m\u001b[43m \u001b[49m\u001b[43minput_name\u001b[49m\u001b[38;5;241;43m=\u001b[39;49m\u001b[38;5;124;43m\"\u001b[39;49m\u001b[38;5;124;43mX\u001b[39;49m\u001b[38;5;124;43m\"\u001b[39;49m\u001b[43m,\u001b[49m\u001b[43m \u001b[49m\u001b[38;5;241;43m*\u001b[39;49m\u001b[38;5;241;43m*\u001b[39;49m\u001b[43mcheck_params\u001b[49m\u001b[43m)\u001b[49m\n\u001b[1;32m    547\u001b[0m     out \u001b[38;5;241m=\u001b[39m X\n\u001b[1;32m    548\u001b[0m \u001b[38;5;28;01melif\u001b[39;00m no_val_X \u001b[38;5;129;01mand\u001b[39;00m \u001b[38;5;129;01mnot\u001b[39;00m no_val_y:\n",
      "File \u001b[0;32m~/anaconda3/envs/test1/lib/python3.9/site-packages/sklearn/utils/validation.py:879\u001b[0m, in \u001b[0;36mcheck_array\u001b[0;34m(array, accept_sparse, accept_large_sparse, dtype, order, copy, force_all_finite, ensure_2d, allow_nd, ensure_min_samples, ensure_min_features, estimator, input_name)\u001b[0m\n\u001b[1;32m    877\u001b[0m         array \u001b[38;5;241m=\u001b[39m xp\u001b[38;5;241m.\u001b[39mastype(array, dtype, copy\u001b[38;5;241m=\u001b[39m\u001b[38;5;28;01mFalse\u001b[39;00m)\n\u001b[1;32m    878\u001b[0m     \u001b[38;5;28;01melse\u001b[39;00m:\n\u001b[0;32m--> 879\u001b[0m         array \u001b[38;5;241m=\u001b[39m \u001b[43m_asarray_with_order\u001b[49m\u001b[43m(\u001b[49m\u001b[43marray\u001b[49m\u001b[43m,\u001b[49m\u001b[43m \u001b[49m\u001b[43morder\u001b[49m\u001b[38;5;241;43m=\u001b[39;49m\u001b[43morder\u001b[49m\u001b[43m,\u001b[49m\u001b[43m \u001b[49m\u001b[43mdtype\u001b[49m\u001b[38;5;241;43m=\u001b[39;49m\u001b[43mdtype\u001b[49m\u001b[43m,\u001b[49m\u001b[43m \u001b[49m\u001b[43mxp\u001b[49m\u001b[38;5;241;43m=\u001b[39;49m\u001b[43mxp\u001b[49m\u001b[43m)\u001b[49m\n\u001b[1;32m    880\u001b[0m \u001b[38;5;28;01mexcept\u001b[39;00m ComplexWarning \u001b[38;5;28;01mas\u001b[39;00m complex_warning:\n\u001b[1;32m    881\u001b[0m     \u001b[38;5;28;01mraise\u001b[39;00m \u001b[38;5;167;01mValueError\u001b[39;00m(\n\u001b[1;32m    882\u001b[0m         \u001b[38;5;124m\"\u001b[39m\u001b[38;5;124mComplex data not supported\u001b[39m\u001b[38;5;130;01m\\n\u001b[39;00m\u001b[38;5;132;01m{}\u001b[39;00m\u001b[38;5;130;01m\\n\u001b[39;00m\u001b[38;5;124m\"\u001b[39m\u001b[38;5;241m.\u001b[39mformat(array)\n\u001b[1;32m    883\u001b[0m     ) \u001b[38;5;28;01mfrom\u001b[39;00m \u001b[38;5;21;01mcomplex_warning\u001b[39;00m\n",
      "File \u001b[0;32m~/anaconda3/envs/test1/lib/python3.9/site-packages/sklearn/utils/_array_api.py:185\u001b[0m, in \u001b[0;36m_asarray_with_order\u001b[0;34m(array, dtype, order, copy, xp)\u001b[0m\n\u001b[1;32m    182\u001b[0m     xp, _ \u001b[38;5;241m=\u001b[39m get_namespace(array)\n\u001b[1;32m    183\u001b[0m \u001b[38;5;28;01mif\u001b[39;00m xp\u001b[38;5;241m.\u001b[39m\u001b[38;5;18m__name__\u001b[39m \u001b[38;5;129;01min\u001b[39;00m {\u001b[38;5;124m\"\u001b[39m\u001b[38;5;124mnumpy\u001b[39m\u001b[38;5;124m\"\u001b[39m, \u001b[38;5;124m\"\u001b[39m\u001b[38;5;124mnumpy.array_api\u001b[39m\u001b[38;5;124m\"\u001b[39m}:\n\u001b[1;32m    184\u001b[0m     \u001b[38;5;66;03m# Use NumPy API to support order\u001b[39;00m\n\u001b[0;32m--> 185\u001b[0m     array \u001b[38;5;241m=\u001b[39m \u001b[43mnumpy\u001b[49m\u001b[38;5;241;43m.\u001b[39;49m\u001b[43masarray\u001b[49m\u001b[43m(\u001b[49m\u001b[43marray\u001b[49m\u001b[43m,\u001b[49m\u001b[43m \u001b[49m\u001b[43morder\u001b[49m\u001b[38;5;241;43m=\u001b[39;49m\u001b[43morder\u001b[49m\u001b[43m,\u001b[49m\u001b[43m \u001b[49m\u001b[43mdtype\u001b[49m\u001b[38;5;241;43m=\u001b[39;49m\u001b[43mdtype\u001b[49m\u001b[43m)\u001b[49m\n\u001b[1;32m    186\u001b[0m     \u001b[38;5;28;01mreturn\u001b[39;00m xp\u001b[38;5;241m.\u001b[39masarray(array, copy\u001b[38;5;241m=\u001b[39mcopy)\n\u001b[1;32m    187\u001b[0m \u001b[38;5;28;01melse\u001b[39;00m:\n",
      "File \u001b[0;32m~/anaconda3/envs/test1/lib/python3.9/site-packages/pandas/core/generic.py:2070\u001b[0m, in \u001b[0;36mNDFrame.__array__\u001b[0;34m(self, dtype)\u001b[0m\n\u001b[1;32m   2069\u001b[0m \u001b[38;5;28;01mdef\u001b[39;00m \u001b[38;5;21m__array__\u001b[39m(\u001b[38;5;28mself\u001b[39m, dtype: npt\u001b[38;5;241m.\u001b[39mDTypeLike \u001b[38;5;241m|\u001b[39m \u001b[38;5;28;01mNone\u001b[39;00m \u001b[38;5;241m=\u001b[39m \u001b[38;5;28;01mNone\u001b[39;00m) \u001b[38;5;241m-\u001b[39m\u001b[38;5;241m>\u001b[39m np\u001b[38;5;241m.\u001b[39mndarray:\n\u001b[0;32m-> 2070\u001b[0m     \u001b[38;5;28;01mreturn\u001b[39;00m \u001b[43mnp\u001b[49m\u001b[38;5;241;43m.\u001b[39;49m\u001b[43masarray\u001b[49m\u001b[43m(\u001b[49m\u001b[38;5;28;43mself\u001b[39;49m\u001b[38;5;241;43m.\u001b[39;49m\u001b[43m_values\u001b[49m\u001b[43m,\u001b[49m\u001b[43m \u001b[49m\u001b[43mdtype\u001b[49m\u001b[38;5;241;43m=\u001b[39;49m\u001b[43mdtype\u001b[49m\u001b[43m)\u001b[49m\n",
      "\u001b[0;31mValueError\u001b[0m: could not convert string to float: '2to5'"
     ]
    }
   ],
   "source": [
    "# Initialize KNNImputer object with desired arguments\n",
    "imputer = KNNImputer(n_neighbors=5)\n",
    "\n",
    "# Impute missing values\n",
    "imputed_data = imputer.fit_transform(subset_df)"
   ]
  },
  {
   "cell_type": "code",
   "execution_count": null,
   "metadata": {},
   "outputs": [],
   "source": []
  }
 ],
 "metadata": {
  "kernelspec": {
   "display_name": "Python [conda env:test1]",
   "language": "python",
   "name": "conda-env-test1-py"
  },
  "language_info": {
   "codemirror_mode": {
    "name": "ipython",
    "version": 3
   },
   "file_extension": ".py",
   "mimetype": "text/x-python",
   "name": "python",
   "nbconvert_exporter": "python",
   "pygments_lexer": "ipython3",
   "version": "3.9.16"
  }
 },
 "nbformat": 4,
 "nbformat_minor": 2
}
